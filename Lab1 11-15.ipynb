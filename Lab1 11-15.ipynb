{
 "cells": [
  {
   "cell_type": "markdown",
   "metadata": {},
   "source": [
    "# Number 11"
   ]
  },
  {
   "cell_type": "code",
   "execution_count": 83,
   "metadata": {},
   "outputs": [
    {
     "name": "stdout",
     "output_type": "stream",
     "text": [
      "A new Base object has been instantiated!.\n",
      "member1: 1\tmember2: 2\tmember3: 3\tmember4: 4\n",
      "1\n",
      "2\n",
      "4\n",
      "A new Derived Object has been instantiated!.\n",
      "A new Base object has been instantiated!.\n",
      "member1: 1\tmember2: 2\tmember3: 3\tmember4: 4\n",
      "A Base object has been initialized in the derived Class\n",
      "1\n",
      "2\n",
      "4\n"
     ]
    }
   ],
   "source": [
    "\n",
    "class Base:\n",
    "    def __init__(self):\n",
    "        print (\"A new Base object has been instantiated!.\")\n",
    "        self.member1 = 1\n",
    "        self._member2 = 2\n",
    "        self.__member3 = 3 \n",
    "        self._member4 = self.__member3 + 1\n",
    "        print (\"member1: {}\\tmember2: {}\\tmember3: {}\\tmember4: {}\".format(self.member1,self._member2,self.__member3,self._member4))\n",
    "        \n",
    "class Derived(Base):\n",
    "    def __init__(self):\n",
    "        print(\"A new Derived Object has been instantiated!.\")\n",
    "        Base.__init__(self)\n",
    "        print(\"A Base object has been initialized in the derived Class\")\n",
    "        #print(\"member1: {}\\tmember2: {}\\tmember3: {}.format(self.member1,self.member2.self.__member3)\")\n",
    "\n",
    "object1 = Base()\n",
    "print (object1.member1)\n",
    "print (object1._member2)\n",
    "#print(object1.__member3)\n",
    "print(object1._member4)\n",
    "\n",
    "object2 = Derived()\n",
    "print(object2.member1)\n",
    "print(object2._member2)\n",
    "#print(object2.__member3)\n",
    "print(object2._member4)\n",
    "        \n",
    "        \n",
    "        \n",
    "    \n",
    "                   \n",
    "      "
   ]
  },
  {
   "cell_type": "markdown",
   "metadata": {},
   "source": [
    "# Number 12\n"
   ]
  },
  {
   "cell_type": "code",
   "execution_count": 87,
   "metadata": {},
   "outputs": [
    {
     "name": "stdout",
     "output_type": "stream",
     "text": [
      "Blue\n",
      "Kuro\n",
      "Woof woof\n",
      "Lily Cruz\n",
      "Makati City\n",
      "Gold\n",
      "Ivy Aguas\n",
      "Ardiente City\n",
      "Black\n"
     ]
    }
   ],
   "source": [
    "class Animal(object):\n",
    "    def __init__(self, name) :\n",
    "        self.name = name\n",
    "    def getName(self) :\n",
    "        print (self.name)\n",
    "class Dog(Animal):\n",
    "    def displayAnimalSound(self):\n",
    "        print(\"Woof woof\")\n",
    "\n",
    "animal1 = Animal(\"Blue\")\n",
    "animal1.getName()\n",
    "#animal.displayAnimalSound()\n",
    "dog1 = Dog(\"Kuro\")\n",
    "dog1.getName()\n",
    "dog1.displayAnimalSound()\n",
    "\n",
    "class Student():\n",
    "    def name(self):\n",
    "        print(\"Lily Cruz\")\n",
    "    def address(self):\n",
    "        print(\"Makati City\")\n",
    "    def hairColor(self):\n",
    "        print(\"Gold\")\n",
    "    def bloodType(self):\n",
    "        print(\"AB\")\n",
    "class Instructor():\n",
    "    def name(self):\n",
    "        print(\"Ivy Aguas\")\n",
    "    def address(self):\n",
    "        print(\"Ardiente City\")\n",
    "    def hairColor(self):\n",
    "        print(\"Black\")\n",
    "    def bloodSugar(self):\n",
    "        print(\"100\")\n",
    "\n",
    "object1 = Student()\n",
    "object2 = Instructor()\n",
    "for human in (object1, object2):\n",
    "    human.name()\n",
    "    human.address()\n",
    "    human.hairColor()\n"
   ]
  },
  {
   "cell_type": "markdown",
   "metadata": {},
   "source": [
    "# Number 13"
   ]
  },
  {
   "cell_type": "code",
   "execution_count": 88,
   "metadata": {},
   "outputs": [
    {
     "name": "stdout",
     "output_type": "stream",
     "text": [
      "Lily Cruz\n",
      "Makati City\n",
      "Gold\n",
      "Ivy Aguas\n",
      "Ardiente City\n",
      "Black\n"
     ]
    }
   ],
   "source": [
    "class Student():\n",
    "    def name(self):\n",
    "        print(\"Lily Cruz\")\n",
    "    def address(self):\n",
    "        print(\"Makati City\")\n",
    "    def hairColor(self):\n",
    "        print(\"Gold\")\n",
    "    def bloodType(self):\n",
    "        print(\"AB\")\n",
    "class Instructor():\n",
    "    def name(self):\n",
    "        print(\"Ivy Aguas\")\n",
    "    def address(self):\n",
    "        print(\"Ardiente City\")\n",
    "    def hairColor(self):\n",
    "        print(\"Black\")\n",
    "    def bloodSugar(self):\n",
    "        print(\"100\")\n",
    "\n",
    "object1 = Student()\n",
    "object2 = Instructor()\n",
    "for human in (object1, object2):\n",
    "    human.name()\n",
    "    human.address()\n",
    "    human.hairColor()"
   ]
  },
  {
   "cell_type": "markdown",
   "metadata": {},
   "source": [
    "# Number 14"
   ]
  },
  {
   "cell_type": "code",
   "execution_count": 90,
   "metadata": {},
   "outputs": [
    {
     "name": "stdout",
     "output_type": "stream",
     "text": [
      "Blue\n",
      "default text\n",
      "Kuro\n",
      "Woof woof\n",
      "This animal have 4 Legs\n",
      "Megumi\n",
      "Meow Meow\n",
      "swswswsws\n",
      "This animal have 4 Legs\n"
     ]
    }
   ],
   "source": [
    "class Animal(object):\n",
    "    def __init__(self, name):\n",
    "        self.name = name\n",
    "    def getName(self):\n",
    "        print(self.name)\n",
    "    def displayNumberofLegs(self):\n",
    "        print(\"default text\")\n",
    "class Dog(Animal):\n",
    "    def displayAnimalSound(self):\n",
    "        print(\"Woof woof\")\n",
    "    def displayNumberofLegs(self):\n",
    "        print(\"This animal have 4 Legs\")\n",
    "class Cat(Dog):\n",
    "    def displayAnimalSound(self):\n",
    "        print(\"Meow Meow\")\n",
    "        print(\"swswswsws\")\n",
    "        \n",
    "animal1 = Animal(\"Blue\")\n",
    "animal1.getName()\n",
    "animal1.displayNumberofLegs()\n",
    "dog1 = Dog(\"Kuro\")\n",
    "dog1.getName()\n",
    "dog1.displayAnimalSound()\n",
    "dog1.displayNumberofLegs()\n",
    "cat1 = Cat(\"Megumi\")\n",
    "cat1.getName()\n",
    "cat1.displayAnimalSound()\n",
    "cat1.displayNumberofLegs()\n",
    "    \n",
    "\n"
   ]
  },
  {
   "cell_type": "markdown",
   "metadata": {},
   "source": [
    "# Number 15"
   ]
  },
  {
   "cell_type": "code",
   "execution_count": 94,
   "metadata": {},
   "outputs": [
    {
     "name": "stdout",
     "output_type": "stream",
     "text": [
      "Lily Cruz\n",
      "Makati City\n",
      "Gold\n",
      "Ivy Aguas\n",
      "Ardiente City\n",
      "Black\n"
     ]
    }
   ],
   "source": [
    "class Student():\n",
    "    def name (self):\n",
    "        print(\"Lily Cruz\")\n",
    "    def address(self):\n",
    "        print(\"Makati City\")\n",
    "    def hairColor(self):\n",
    "        print(\"Gold\")\n",
    "    def bloodType(self):\n",
    "        print(\"AB\")\n",
    "class Instructor():\n",
    "    def name(self):\n",
    "        print(\"Ivy Aguas\")\n",
    "    def address(self):\n",
    "        print(\"Ardiente City\")\n",
    "    def hairColor(self):\n",
    "        print(\"Black\")\n",
    "    def bloodSugar(self):\n",
    "        print(\"100\")\n",
    "   \n",
    "def func(obj):\n",
    "    obj.name()\n",
    "    obj.address()\n",
    "    obj.hairColor()\n",
    "   \n",
    "human1 = Student()\n",
    "human2 = Instructor()\n",
    "\n",
    "func(human1)\n",
    "func(human2)\n",
    "        "
   ]
  }
 ],
 "metadata": {
  "kernelspec": {
   "display_name": "Python 3",
   "language": "python",
   "name": "python3"
  },
  "language_info": {
   "codemirror_mode": {
    "name": "ipython",
    "version": 3
   },
   "file_extension": ".py",
   "mimetype": "text/x-python",
   "name": "python",
   "nbconvert_exporter": "python",
   "pygments_lexer": "ipython3",
   "version": "3.8.3"
  }
 },
 "nbformat": 4,
 "nbformat_minor": 4
}
